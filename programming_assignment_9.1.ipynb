{
 "cells": [
  {
   "cell_type": "code",
   "execution_count": 1,
   "id": "0aba9f29",
   "metadata": {},
   "outputs": [
    {
     "data": {
      "text/plain": [
       "<__main__.Ball at 0x1e1c9157160>"
      ]
     },
     "execution_count": 1,
     "metadata": {},
     "output_type": "execute_result"
    }
   ],
   "source": [
    "from tkinter import *\n",
    "\n",
    "class Ball:\n",
    "\n",
    "    def __init__(self):\n",
    "        root = Tk()\n",
    "        root.title(\"Moving Ball\")\n",
    "        top = Frame(root)\n",
    "        bottom = Frame(root)\n",
    "        top.pack(side = TOP)\n",
    "        bottom.pack(side = BOTTOM)\n",
    "\n",
    "        self.canvas = Canvas(top, width = 200, height = 100, bg = \"white\")\n",
    "        self.canvas.pack(side = TOP)\n",
    "\n",
    "        btLeft = Button(bottom, text = \"Left\", command = self.processLeft)\n",
    "        btRight = Button(bottom, text = \"Right\", command = self.processRight)\n",
    "        btUp = Button(bottom, text = \"Up\", command = self.processUp)\n",
    "        btDown = Button(bottom, text = \"Down\", command = self.processDown)\n",
    "        btLeft.pack(side = LEFT)\n",
    "        btRight.pack(side = LEFT)\n",
    "        btUp.pack(side = LEFT)\n",
    "        btDown.pack(side = LEFT)\n",
    "        self.displayBall()\n",
    "\n",
    "        root.mainloop()\n",
    "\n",
    "    dx = 5\n",
    "    dy = 5\n",
    "    x = 0\n",
    "    y = 0\n",
    "\n",
    "    def displayBall(self):\n",
    "        self.canvas.create_oval(95, 45, 105, 55, fill = \"black\", tags = \"ball\")\n",
    "\n",
    "    def processLeft(self):\n",
    "        if self.x <= -100:\n",
    "            return\n",
    "        else:\n",
    "            self.canvas.move(\"ball\", -self.dx, 0)\n",
    "            self.x = self.x - 5\n",
    "\n",
    "    def processRight(self):\n",
    "        if self.x >= 100:\n",
    "            return\n",
    "        else:\n",
    "            self.canvas.move(\"ball\", self.dx, 0)\n",
    "            self.x = self.x + 5\n",
    "\n",
    "    def processUp(self):\n",
    "        if self.y <= -50:\n",
    "            return\n",
    "        else:\n",
    "            self.canvas.move(\"ball\", 0, -self.dy)\n",
    "            self.y = self.y - 5\n",
    "\n",
    "    def processDown(self):\n",
    "        if self.y >= 50:\n",
    "            return\n",
    "        else:\n",
    "            self.canvas.move(\"ball\", 0, self.dy)\n",
    "            self.y = self.y + 5\n",
    "\n",
    "Ball()\n"
   ]
  },
  {
   "cell_type": "code",
   "execution_count": null,
   "id": "f07e71e4",
   "metadata": {},
   "outputs": [],
   "source": []
  }
 ],
 "metadata": {
  "kernelspec": {
   "display_name": "Python 3 (ipykernel)",
   "language": "python",
   "name": "python3"
  },
  "language_info": {
   "codemirror_mode": {
    "name": "ipython",
    "version": 3
   },
   "file_extension": ".py",
   "mimetype": "text/x-python",
   "name": "python",
   "nbconvert_exporter": "python",
   "pygments_lexer": "ipython3",
   "version": "3.9.12"
  }
 },
 "nbformat": 4,
 "nbformat_minor": 5
}
